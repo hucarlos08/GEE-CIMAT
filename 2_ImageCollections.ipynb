{
  "nbformat": 4,
  "nbformat_minor": 0,
  "metadata": {
    "colab": {
      "provenance": [],
      "authorship_tag": "ABX9TyPjohGcfBbrQNtnhvvnTR3i",
      "include_colab_link": true
    },
    "kernelspec": {
      "name": "python3",
      "display_name": "Python 3"
    },
    "language_info": {
      "name": "python"
    }
  },
  "cells": [
    {
      "cell_type": "markdown",
      "metadata": {
        "id": "view-in-github",
        "colab_type": "text"
      },
      "source": [
        "<a href=\"https://colab.research.google.com/github/hucarlos08/GEE-CIMAT/blob/main/2_ImageCollections.ipynb\" target=\"_parent\"><img src=\"https://colab.research.google.com/assets/colab-badge.svg\" alt=\"Open In Colab\"/></a>"
      ]
    },
    {
      "cell_type": "markdown",
      "source": [
        "# Exploring Satellite Image Operations and Spectral Indices with GEE\n",
        "\n",
        "This notebook delves into fundamental image processing techniques using Google Earth Engine (GEE) and Sentinel-2 satellite imagery. We will explore how to transform raw satellite reflectance data into meaningful information by calculating spectral indices, applying thresholds, and classifying pixels based on their spectral properties.\n",
        "\n",
        "## Introduction\n",
        "\n",
        "Satellite images provide a wealth of information about the Earth's surface, but raw reflectance values across different spectral bands often need further processing to extract specific features or characteristics. Spectral indices, which are mathematical combinations of different bands, are powerful tools designed to enhance specific phenomena like vegetation health, water content, or soil/mineral composition while minimizing noise and illumination effects.\n",
        "\n",
        "Thresholding and classification techniques allow us to convert these continuous index values or raw reflectance data into discrete categories or thematic maps, enabling quantitative analysis and visualization of land cover types and conditions.\n",
        "\n",
        "## Topics Covered\n",
        "\n",
        "In this notebook, we will cover:\n",
        "\n",
        "1.  **Loading and Visualizing Sentinel-2 Data:** Accessing and displaying cloud-filtered Surface Reflectance imagery.\n",
        "2.  **Calculating Common Spectral Indices:**\n",
        "    *   **NDVI (Normalized Difference Vegetation Index):** Quantifying vegetation greenness and health.\n",
        "    *   **NDWI (Normalized Difference Water Index):** Highlighting water bodies and vegetation moisture content.\n",
        "3.  **Thresholding and Masking:** Creating binary maps (e.g., vegetation vs. non-vegetation) by applying thresholds to index values.\n",
        "4.  **Basic Statistics:** Calculating pixel counts and percentages for thresholded areas within a Region of Interest (ROI).\n",
        "5.  **Multi-Class Mapping with `.where()`:** Classifying pixels into multiple categories based on index ranges.\n",
        "6.  **Domain-Specific Indices (Geology Example):**\n",
        "    *   **CMR (Clay Minerals Ratio):** Identifying potential clay mineral presence.\n",
        "    *   **IOR (Iron Oxide Ratio):** Highlighting areas potentially rich in iron oxides.\n",
        "\n",
        "## Workflow Overview\n",
        "\n",
        "1.  **Setup:** Initialize GEE and configure the environment.\n",
        "2.  **Data Acquisition:** Load and preprocess a Sentinel-2 SR image for a chosen location and time.\n",
        "3.  **Index Calculation:** Compute various spectral indices (NDVI, NDWI, CMR, IOR).\n",
        "4.  **Analysis & Classification:** Apply thresholds and use `.where()` for classification. Calculate basic statistics.\n",
        "5.  **Visualization:** Display the original image, calculated indices, and classified maps using Folium for interactive comparison.\n",
        "\n",
        "## Dataset\n",
        "\n",
        "We will primarily use **Sentinel-2 Surface Reflectance (SR)** data provided by the Copernicus program (`COPERNICUS/S2_SR_HARMONIZED`). This dataset provides atmospherically corrected imagery at 10-20m resolution across multiple spectral bands, suitable for a wide range of land cover analyses.\n",
        "\n",
        "## Learning Objectives\n",
        "\n",
        "*   Load, preprocess (scale), and visualize Sentinel-2 imagery.\n",
        "*   Understand the formulas and rationale behind NDVI, NDWI, CMR, and IOR.\n",
        "*   Calculate spectral indices using GEE's built-in functions (`.normalizedDifference`, band math).\n",
        "*   Apply thresholds (`.gt`, `.lte`) to create binary masks.\n",
        "*   Use `.reduceRegion()` with `ee.Reducer.sum()` and `ee.Reducer.count()` for basic statistics.\n",
        "*   Implement multi-class classification using chained `.where()` methods.\n",
        "*   Visualize and compare different image processing results on an interactive map."
      ],
      "metadata": {
        "id": "ZRQMK9KJkQwf"
      }
    },
    {
      "cell_type": "markdown",
      "source": [
        "## 1. Setting Up Google Earth Engine in Colab\n",
        "\n",
        "First, we need to install the necessary packages and authenticate with Earth Engine."
      ],
      "metadata": {
        "id": "0MetLhGsx46X"
      }
    },
    {
      "cell_type": "code",
      "execution_count": null,
      "metadata": {
        "id": "qIC7lMglncxV"
      },
      "outputs": [],
      "source": [
        "# Import libraries\n",
        "import ee\n",
        "import folium\n",
        "import numpy as np\n",
        "import matplotlib.pyplot as plt\n",
        "from datetime import datetime\n",
        "\n",
        "# Authenticate and initialize Earth Engine\n",
        "try:\n",
        "    ee.Initialize()\n",
        "except Exception as e:\n",
        "    ee.Authenticate()\n",
        "    ee.Initialize(project=\"ee-cimat\")"
      ]
    },
    {
      "cell_type": "markdown",
      "source": [
        "## 2. Basic GEE Concepts\n",
        "\n",
        "Before we dive into ImageCollections, let's review some basic GEE concepts:\n",
        "\n",
        "### Key Earth Engine Objects\n",
        "- **Image**: A raster with bands (like a multi-band satellite image)\n",
        "- **Feature**: A geometry with properties (like a point, line, or polygon with attributes)\n",
        "- **ImageCollection**: A stack or time-series of Images\n",
        "- **FeatureCollection**: A group of Features\n",
        "\n",
        "### GEE's Client-Server Architecture\n",
        "- Code runs in your browser/Colab (client)\n",
        "- Computations happen on Google's servers\n",
        "- Results are sent back to the client for display\n",
        "\n",
        "Let's define our area of interest around CIMAT in Guanajuato."
      ],
      "metadata": {
        "id": "X_nsj9r0yAE8"
      }
    },
    {
      "source": [
        "import geemap\n",
        "\n",
        "# Define coordinates for Parque Científico y Tecnológico de Yucatán\n",
        "parque_coords = [21.1518, -89.6676]\n",
        "\n",
        "# ... (resto del código) ...\n",
        "\n",
        "# Create a point for Parque Científico y Tecnológico de Yucatán\n",
        "parque_point = ee.Geometry.Point(parque_coords[1], parque_coords[0])\n",
        "\n",
        "# Create a 10km buffer around the park for our region of interest\n",
        "parque_area = parque_point.buffer(10000)  # 10km buffer\n",
        "\n",
        "# Create a map centered on the park\n",
        "map_parque = geemap.Map(center=parque_coords, zoom=12)\n",
        "map_parque.add_basemap('HYBRID')\n",
        "map_parque.addLayer(parque_area, {'color': 'red'}, 'Parque Buffer')\n",
        "map_parque.addLayer(parque_point, {'color': 'blue'}, 'Parque')\n",
        "map_parque"
      ],
      "cell_type": "code",
      "metadata": {
        "id": "6AW9vNYWYe-2"
      },
      "execution_count": null,
      "outputs": []
    },
    {
      "cell_type": "markdown",
      "source": [
        "## 3. Introduction to ImageCollections\n",
        "\n",
        "An **ImageCollection** is a stack or time-series of images. Think of it as a catalog of images with similar properties, typically covering different time periods.\n",
        "\n",
        "### Common ImageCollections in GEE:\n",
        "- **Landsat**: Landsat 5, 7, 8, 9 collections (30m resolution)\n",
        "- **Sentinel**: Sentinel-1 (radar), Sentinel-2 (optical) collections (10m resolution)\n",
        "- **MODIS**: Various products including land surface temperature, vegetation indices (250m-1km)\n",
        "- **Climate data**: Precipitation, temperature collections\n",
        "\n",
        "Let's start by exploring the Sentinel-2 ImageCollection, which provides high-resolution optical imagery."
      ],
      "metadata": {
        "id": "eXY9C95Wyb2R"
      }
    },
    {
      "cell_type": "code",
      "source": [
        "# Define a date range\n",
        "start_date = '2023-01-01'\n",
        "end_date   = '2023-01-15'\n",
        "\n",
        "# Filter the collection by date and location\n",
        "filtered_s2  = (ee.ImageCollection(\"COPERNICUS/S2_SR\")\n",
        "              .filterBounds(parque_area)\n",
        "              .filterDate(start_date, end_date)\n",
        "              .filter(ee.Filter.lt('CLOUDY_PIXEL_PERCENTAGE', 20)))\n",
        "\n",
        "# Print the number of images after filtering\n",
        "print(f\"Number of images after filtering: {filtered_s2.size().getInfo()}\")\n",
        "\n",
        "# Print information about each image in the filtered collection\n",
        "image_list = filtered_s2.toList(filtered_s2.size())\n",
        "for i in range(filtered_s2.size().getInfo()):\n",
        "    img = ee.Image(image_list.get(i))\n",
        "    date = ee.Date(img.get('system:time_start')).format('YYYY-MM-dd').getInfo()\n",
        "    clouds = img.get('CLOUDY_PIXEL_PERCENTAGE').getInfo()\n",
        "    # Get the tile ID or granule ID\n",
        "    tile_id = img.get('MGRS_TILE').getInfo() if img.propertyNames().contains('MGRS_TILE').getInfo() else 'Unknown'\n",
        "    # Get numeric ID to differentiate images\n",
        "    img_id = img.get('system:index').getInfo()\n",
        "    print(f\"Image {i+1}: Date = {date}, Cloud cover = {clouds:.2f}%, Tile = {tile_id}, ID = {img_id}\")"
      ],
      "metadata": {
        "id": "YA2KVAV6yc97"
      },
      "execution_count": null,
      "outputs": []
    },
    {
      "cell_type": "markdown",
      "source": [
        "### Multiple images\n",
        "\n",
        "You're seeing multiple images with the same date (like two images from 2023-01-04 with identical cloud cover) because of how Sentinel-2 imagery is structured. There are a few reasons this happens:\n",
        "\n",
        "Different satellites:\n",
        " 1. Sentinel-2 is actually a constellation of two satellites (Sentinel-2A and Sentinel-2B), which can capture images of the same area on the same day.\n",
        " 2. Adjacent tiles: Sentinel-2 data is organized into tiles using the Military Grid Reference System (MGRS). Your area of interest (the 10km buffer around PCTY) likely falls on the boundary between two or more tiles. GEE returns all tiles that intersect with your area, which can result in multiple images from the same date.\n",
        " 3. Different granules: Even within a single tile, Sentinel-2 data can be processed as separate granules, which appear as distinct images in Earth Engine with the same date."
      ],
      "metadata": {
        "id": "HxeA0Y9IOSmZ"
      }
    },
    {
      "cell_type": "code",
      "source": [
        "# Get the first image from the filtered collection\n",
        "first_image = ee.Image(filtered_s2.first())\n",
        "\n",
        "# Define visualization parameters for true color (RGB)\n",
        "vis_params = {\n",
        "    'bands': ['B4', 'B3', 'B2'],  # R, G, B bands in Sentinel-2\n",
        "    'min': 0,\n",
        "    'max': 3000,\n",
        "    'gamma': 1.4\n",
        "}\n",
        "\n",
        "# Create a map centered on PCTY\n",
        "map_single = geemap.Map(center=parque_coords, zoom=12)\n",
        "map_single.add_basemap('HYBRID')\n",
        "\n",
        "# Add the image to the map\n",
        "date = ee.Date(first_image.get('system:time_start')).format('YYYY-MM-dd').getInfo()\n",
        "map_single.addLayer(first_image, vis_params, f'Sentinel-2 ({date})')\n",
        "map_single.addLayer(parque_point, {'color': 'red'}, 'PCTY')\n",
        "map_single"
      ],
      "metadata": {
        "id": "_lwqqLfgQeko"
      },
      "execution_count": null,
      "outputs": []
    },
    {
      "cell_type": "markdown",
      "source": [
        "## When and Why to Use `mosaic()` in Google Earth Engine\n",
        "\n",
        "In satellite image collections like Sentinel-2, a single location can be covered by **multiple image tiles on the same day**. This happens because:\n",
        "\n",
        "- The satellite's path is divided into **overlapping tiles**.\n",
        "- Each tile is a separate image, but they may share the same acquisition time and metadata (like cloud cover).\n",
        "- As a result, when you filter by date and location, you may get **several images with the same timestamp**.\n",
        "\n",
        "This redundancy can be problematic when:\n",
        "- You want to visualize or export a **single image per date**.\n",
        "- You are preparing a **time series analysis** and need exactly one image per time step.\n",
        "- You want to eliminate **repetitive layers** that result from tile overlaps.\n",
        "\n",
        "### What `mosaic()` Does\n",
        "\n",
        "The `mosaic()` function helps by:\n",
        "- Taking all overlapping images in a collection and **composing a single image**.\n",
        "- **Overlaying** the images in draw order (last on top).\n",
        "- Returning a **clean, seamless composite** that covers the union of all input images.\n",
        "\n",
        "This is especially useful when working with:\n",
        "- **Small areas** (like the region around CIMAT), which are likely to be covered by multiple tiles.\n",
        "- **Quick previews** or **monthly composites**.\n",
        "- **Visualizations** where image consistency is more important than pixel-level provenance.\n",
        "\n",
        "### It depends on your goal\n",
        "\n",
        " **Use `mosaic()` if:**\n",
        "- You want one clean image per date (especially for time series analysis).\n",
        "- You want to hide tile boundaries and work at region-scale.\n",
        "- You're producing composites like median, min, max, NDVI trends, etc.\n",
        "- You're fine with “one best pixel per location” on each date.\n",
        "\n",
        "⚠️ **Be cautious with `mosaic()` if:**\n",
        "- You need per-tile quality control (e.g., selecting only the best tile).\n",
        "- You're doing per-image atmospheric correction or QA (e.g., cloud masking).\n",
        "- You need complete metadata for each pixel (e.g., data provenance or pixel QA bits).\n",
        "\n",
        "**QA stands for Quality Assessment**, and in the context of satellite imagery it refers to metadata stored in special bands (like `QA60` for Sentinel-2) that encode information such as cloud masks, shadows, saturation, or snow. These bands are crucial for high-quality, pixel-level analysis and should be preserved when needed.\n",
        "\n",
        "In summary, `mosaic()` is a powerful tool when you want to **resolve spatial redundancy** in your filtered collections and work with **one image per date** in a clean, intuitive way.\n",
        "\"\"\""
      ],
      "metadata": {
        "id": "443jmJlLkjCO"
      }
    },
    {
      "cell_type": "code",
      "source": [
        "# Create and visualize the mosaic\n",
        "mosaic = same_day_images.mosaic()\n",
        "\n",
        "# Create a unified geometry from all input tiles\n",
        "union_geom = same_day_images.geometry()\n",
        "\n",
        "# Create a new map\n",
        "map2 = geemap.Map(center=parque_coords, zoom=10)\n",
        "map2.add_basemap('HYBRID')\n",
        "\n",
        "# Add the mosaic\n",
        "map2.addLayer(mosaic, vis_params, f'Mosaic for {start_date}')\n",
        "\n",
        "# Add the unified geometry in red\n",
        "map2.addLayer(union_geom, {'color': 'red'}, 'Mosaic Geometry')\n",
        "\n",
        "# Add PCTY location\n",
        "map2.addLayer(parque_point, {'color': 'red'}, 'PCTY')\n",
        "\n",
        "# Show the map\n",
        "display(map2)\n"
      ],
      "metadata": {
        "id": "Hv2pcfs0dUe7"
      },
      "execution_count": null,
      "outputs": []
    },
    {
      "cell_type": "markdown",
      "source": [
        "## 🧪 Try it Yourself!\n",
        "\n",
        "- Change the cloud cover threshold to 30% and observe the number of available images.\n",
        "- Try a different season (e.g., rainy season: June–September).\n",
        "- Replace the visualization bands with `['B8', 'B4', 'B3']` for a false color composite.\n"
      ],
      "metadata": {
        "id": "P9ctiFwXuD3_"
      }
    }
  ]
}