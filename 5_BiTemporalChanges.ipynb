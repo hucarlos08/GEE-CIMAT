{
  "nbformat": 4,
  "nbformat_minor": 0,
  "metadata": {
    "colab": {
      "provenance": [],
      "authorship_tag": "ABX9TyMhx86Yu3CLtCXyCeiao409",
      "include_colab_link": true
    },
    "kernelspec": {
      "name": "python3",
      "display_name": "Python 3"
    },
    "language_info": {
      "name": "python"
    }
  },
  "cells": [
    {
      "cell_type": "markdown",
      "metadata": {
        "id": "view-in-github",
        "colab_type": "text"
      },
      "source": [
        "<a href=\"https://colab.research.google.com/github/hucarlos08/Geo-GEE/blob/main/BiTemporalChanges.ipynb\" target=\"_parent\"><img src=\"https://colab.research.google.com/assets/colab-badge.svg\" alt=\"Open In Colab\"/></a>"
      ]
    },
    {
      "cell_type": "markdown",
      "source": [
        "# Bitemporal Change Detection using Normalized Burn Ratio (NBR)\n",
        "\n",
        "This notebook explores a fundamental remote sensing technique: **Change Detection**. The goal is to identify and map differences in landscape conditions by comparing satellite images acquired at different points in time.\n",
        "\n",
        "## Introduction to Change Detection\n",
        "\n",
        "Change detection is crucial for monitoring environmental dynamics, managing natural resources, and assessing the impact of events. Examples include:\n",
        "\n",
        "*   Tracking deforestation or reforestation.\n",
        "*   Mapping the extent and severity of wildfires or volcanic eruptions.\n",
        "*   Monitoring urban expansion.\n",
        "*   Observing changes in water bodies or coastlines.\n",
        "*   Assessing agricultural practices like harvesting.\n",
        "\n",
        "The basic premise underlying many change detection methods is that significant changes on the landscape will result in measurable differences in the spectral reflectance values captured by satellite sensors between two dates.\n",
        "\n",
        "## Challenges in Change Detection\n",
        "\n",
        "While the concept is straightforward, accurately detecting *meaningful* change requires distinguishing it from various sources of \"noise\" or non-target variations in the spectral signal. These can include:\n",
        "\n",
        "*   **Seasonal variations & Phenology:** Changes in vegetation greenness due to normal seasonal cycles.\n",
        "*   **Atmospheric Effects:** Differences in haze, aerosols, or water vapor between dates.\n",
        "*   **Illumination Differences:** Variations in sun angle and topography.\n",
        "*   **Sensor Differences:** Variations between different satellite sensors or even calibration changes over time.\n",
        "*   **Image Misregistration:** Imperfect alignment of pixels between images.\n",
        "*   **Clouds and Shadows:** Obscuring the land surface and changing illumination.\n",
        "\n",
        "Simple two-date differencing methods work best for detecting abrupt, relatively long-lived changes over large areas, where the change signal is strong compared to the noise.\n",
        "\n",
        "## Methodology: Two-Date NBR Differencing\n",
        "\n",
        "This exercise focuses on a common and effective method for detecting changes, particularly those related to vegetation health, stress, or removal (like fire impacts): **differencing the Normalized Burn Ratio (NBR)** between a pre-event and a post-event image.\n",
        "\n",
        "1.  **Normalized Burn Ratio (NBR):**\n",
        "NBR is a spectral index calculated from the Near-Infrared (NIR) and Shortwave Infrared (SWIR) bands. For Landsat 8, we typically use SWIR2 (Band 7).\n",
        "$$\n",
        "NBR = \\frac{(NIR - SWIR2)}{(NIR + SWIR2)}\n",
        "$$\n",
        "Rationale: Healthy vegetation reflects strongly in the NIR and absorbs in the SWIR, leading to high NBR values. Burned areas, bare soil, or stressed/dry vegetation have lower NIR and higher SWIR reflectance, resulting in lower NBR values. Values range from -1 to +1.\n",
        "\n",
        "2.  **Difference NBR (dNBR or ΔNBR):**\n",
        "    *   The core of the change analysis is calculating the difference between NBR maps from two dates.\n",
        "    *   Formula:\n",
        "$$ dNBR = NBR_{post} - NBR_{pre} $$\n",
        "    *   Interpretation:\n",
        "        *   **Negative dNBR values:** Indicate a decrease in NBR, strongly suggesting vegetation loss or stress (e.g., fire damage, logging). Larger negative values typically correspond to more severe damage.\n",
        "        *   **Values near zero:** Indicate little or no significant change in NBR between the two dates (stable areas).\n",
        "        *   **Positive dNBR values:** Indicate an increase in NBR, suggesting vegetation regrowth or increased greenness.\n",
        "\n",
        "3.  **Thresholding:**\n",
        "    *   To create a thematic map, the continuous dNBR values are often classified into discrete categories (e.g., High Severity Loss, Low Severity Loss, Stable, Regrowth) by applying specific **thresholds**. Selecting appropriate thresholds is crucial and often requires calibration or knowledge of the specific event and region.\n",
        "\n",
        "## Workflow Overview\n",
        "\n",
        "This notebook will guide you through the following steps:\n",
        "\n",
        "1.  **Image Preparation:** Load Landsat 8 Surface Reflectance data, define pre- and post-event time periods, filter images based on location and cloud cover, select the best image for each period, and apply necessary scaling/renaming.\n",
        "2.  **Visualization:** Create and examine false-color composites of the pre- and post-event images to visually identify potential changes.\n",
        "3.  **NBR Calculation:** Compute the NBR index for both the pre- and post-event images.\n",
        "4.  **dNBR Calculation:** Calculate the difference image (dNBR) by subtracting the pre-event NBR from the post-event NBR.\n",
        "5.  **Change Classification:** Apply thresholds to the dNBR image to create a classified map showing areas of loss, stability, and gain.\n",
        "6.  **Map Display:** Visualize the dNBR and classified change maps using appropriate color palettes.\n",
        "\n",
        "## Dataset\n",
        "\n",
        "We will use **Landsat 8 Collection 2, Level 2 Surface Reflectance** data (`LANDSAT/LC08/C02/T1_L2`). Using Surface Reflectance (SR) is important as it corrects for atmospheric effects, providing more comparable reflectance values between different dates.\n",
        "\n",
        "## Learning Objectives\n",
        "\n",
        "*   Create and interpret false-color composites for visual assessment.\n",
        "*   Calculate the Normalized Burn Ratio (NBR) index.\n",
        "*   Create a difference image (dNBR) between two time periods.\n",
        "*   Produce a classified change map using thresholding on the dNBR image.\n",
        "\n",
        "## Key GEE Concepts\n",
        "\n",
        "*   `ee.ImageCollection`, `.filterDate()`, `.filterBounds()`, `.sort()`, `.first()`\n",
        "*   `.select()` with band renaming\n",
        "*   Applying scaling factors to SR data\n",
        "*   `.normalizedDifference()` for index calculation\n",
        "*   `.subtract()` for image differencing\n",
        "*   `ee.Image.where()` for conditional reclassification/thresholding\n",
        "*   Visualization parameters (`visParams`) including palettes\n",
        "*   Map display using Folium and the `add_ee_layer` helper function"
      ],
      "metadata": {
        "id": "Spip_RfqNH7B"
      }
    },
    {
      "cell_type": "markdown",
      "source": [
        "## Setup"
      ],
      "metadata": {
        "id": "zfOkoY1NQtLD"
      }
    },
    {
      "cell_type": "code",
      "execution_count": null,
      "metadata": {
        "id": "72cgqsM7M1Fa"
      },
      "outputs": [],
      "source": [
        "\"\"\"\n",
        "Notebook for Bitemporal Change Detection using NBR with Landsat 8\n",
        "\"\"\"\n",
        "\n",
        "# Import necessary libraries\n",
        "import ee\n",
        "import folium\n",
        "\n",
        "# Helper function to add GEE tile layers to a Folium map\n",
        "def add_ee_layer(self, ee_image_object, vis_params, name):\n",
        "  \"\"\"Adds a Google Earth Engine tile layer to a Folium map.\"\"\"\n",
        "  if ee_image_object is None:\n",
        "      print(f\"Warning: Skipping layer '{name}' because the Earth Engine Image object is null.\")\n",
        "      return self\n",
        "  try:\n",
        "      map_id_dict = ee.Image(ee_image_object).getMapId(vis_params)\n",
        "      folium.raster_layers.TileLayer(\n",
        "          tiles=map_id_dict['tile_fetcher'].url_format,\n",
        "          attr='Map Data © <a href=\"https://earthengine.google.com/\">Google Earth Engine</a>',\n",
        "          name=name,\n",
        "          overlay=True,\n",
        "          control=True\n",
        "      ).add_to(self)\n",
        "      print(f\"Layer '{name}' added successfully.\")\n",
        "  except Exception as e:\n",
        "      print(f\"ERROR adding layer '{name}': {e}\")\n",
        "  return self\n",
        "\n",
        "# Apply the helper function to folium.Map\n",
        "folium.Map.add_ee_layer = add_ee_layer\n",
        "\n",
        "# Authenticate and Initialize Google Earth Engine\n",
        "try:\n",
        "    ee.Initialize(project='ee-cimat')\n",
        "    print(\"Google Earth Engine initialized successfully.\")\n",
        "except Exception as e:\n",
        "    print(f\"Earth Engine initialization failed: {e}\")\n",
        "    print(\"Attempting authentication...\")\n",
        "    ee.Authenticate()\n",
        "    ee.Initialize(project='ee-cimat')\n",
        "    print(\"Google Earth Engine authenticated and initialized successfully.\")"
      ]
    },
    {
      "cell_type": "markdown",
      "source": [
        " ## Configuration & Initial Data Loading"
      ],
      "metadata": {
        "id": "7BAcQ6GCQqPS"
      }
    },
    {
      "cell_type": "code",
      "source": [
        "# --- Configuration ---\n",
        "\n",
        "# Dataset: Landsat 8 Collection 2, Level 2 (Surface Reflectance)\n",
        "landsat_collection_id = 'LANDSAT/LC08/C02/T1_L2'\n",
        "\n",
        "# Point of Interest (Example from GEE: Southern Oregon)\n",
        "# Coordinates: [longitude, latitude]\n",
        "poi_coords = [-123.64, 42.96]\n",
        "\n",
        "# Date Ranges for Pre- and Post-Event Images\n",
        "# Example: Pre-fire (June 2013), Post-fire (June 2020) - Adjust as needed\n",
        "pre_start_date = '2013-06-01'\n",
        "pre_end_date = '2013-06-30'\n",
        "post_start_date = '2020-06-01'\n",
        "post_end_date = '2020-06-30'\n",
        "\n",
        "# Define band names for Landsat 8 SR (Bands 2-7)\n",
        "# Original names in the collection\n",
        "original_bands = ['SR_B2', 'SR_B3', 'SR_B4', 'SR_B5', 'SR_B6', 'SR_B7']\n",
        "# New names for easier reference\n",
        "new_band_names = ['blue', 'green', 'red', 'nir', 'swir1', 'swir2']\n",
        "\n",
        "print(\"Configuration set.\")\n",
        "\n",
        "# --- Data Loading and Preprocessing ---\n",
        "\n",
        "# Load the Image Collection\n",
        "landsat8_sr = landsat8 = ee.ImageCollection('LANDSAT/LC08/C02/T1_L2').select(original_bands, new_band_names)\n",
        "\n",
        "print(f\"Loaded collection: {landsat_collection_id}\")\n",
        "\n",
        "\n",
        "\n",
        "# Create the Point of Interest Geometry\n",
        "point = ee.Geometry.Point(poi_coords)\n",
        "print(f\"Point of Interest created at: {poi_coords}\")"
      ],
      "metadata": {
        "id": "1aTyfxGZQdFW"
      },
      "execution_count": null,
      "outputs": []
    },
    {
      "cell_type": "markdown",
      "source": [
        "## Select Pre- and Post-Event Images"
      ],
      "metadata": {
        "id": "GRgiKgloQ-cQ"
      }
    },
    {
      "cell_type": "code",
      "source": [
        "# Cell 3: Select Pre- and Post-Event Images (REVISED CHECK v3)\n",
        "\n",
        "# --- Select Pre-Event Image ---\n",
        "print(\"Requesting pre-event image selection from GEE...\")\n",
        "preImage = landsat8_sr \\\n",
        "    .filterBounds(point) \\\n",
        "    .filterDate(pre_start_date, pre_end_date) \\\n",
        "    .sort('CLOUD_COVER') \\\n",
        "    .first() # Get the least cloudy image in the date range\n",
        "\n",
        "# --- Select Post-Event Image ---\n",
        "print(\"Requesting post-event image selection from GEE...\")\n",
        "postImage = landsat8_sr \\\n",
        "    .filterBounds(point) \\\n",
        "    .filterDate(post_start_date, post_end_date) \\\n",
        "    .sort('CLOUD_COVER') \\\n",
        "    .first() # Get the least cloudy image in the date range\n",
        "\n",
        "images_found = True"
      ],
      "metadata": {
        "id": "R_ycbKvoQ_4e"
      },
      "execution_count": null,
      "outputs": []
    },
    {
      "cell_type": "markdown",
      "source": [
        "## Create Map & Visualize False-Color"
      ],
      "metadata": {
        "id": "ckmqmALBdh-c"
      }
    },
    {
      "cell_type": "code",
      "source": [
        "# --- Visualization Parameters for False-Color (SWIR2, NIR, Red) ---\n",
        "# Using scaled Surface Reflectance (approx 0-1 range)\n",
        "false_color_vis = {\n",
        "'bands': ['swir2', 'nir', 'red'],\n",
        "'min': 7750,\n",
        "'max': 22200\n",
        "};\n",
        "\n",
        "print(\"Defined false-color visualization parameters.\")\n",
        "\n",
        "# --- Create Folium Map Object ---\n",
        "# Center the map on the Point of Interest\n",
        "map_center_coords = point.coordinates().getInfo()[::-1] # Reverse coords for Folium [lat, lon]\n",
        "zoom_level = 11 # Adjust zoom level as needed\n",
        "\n",
        "map_change = folium.Map(location=map_center_coords, zoom_start=zoom_level)\n",
        "print(f\"Folium map initialized, centered at {map_center_coords}.\")\n",
        "\n",
        "# --- Add False-Color Layers to Map ---\n",
        "map_change = add_ee_layer(map_change, preImage, false_color_vis, 'False Color (Pre-Event)')\n",
        "map_change = add_ee_layer(map_change, postImage, false_color_vis, 'False Color (Post-Event)')"
      ],
      "metadata": {
        "id": "rW14qVJsSfvu"
      },
      "execution_count": null,
      "outputs": []
    },
    {
      "cell_type": "markdown",
      "source": [
        "## Calculate NBR"
      ],
      "metadata": {
        "id": "ZB28QwLNb91t"
      }
    },
    {
      "cell_type": "code",
      "source": [
        "# --- Calculate Normalized Burn Ratio (NBR) ---\n",
        "# NBR = (NIR - SWIR2) / (NIR + SWIR2)\n",
        "\n",
        "if images_found:\n",
        "    # Calculate NBR for pre-event image\n",
        "    nbrPre = preImage.normalizedDifference(['nir', 'swir2']).rename('nbr_pre')\n",
        "\n",
        "    # Calculate NBR for post-event image\n",
        "    nbrPost = postImage.normalizedDifference(['nir', 'swir2']).rename('nbr_post')\n",
        "\n",
        "    print(\"Calculated NBR for pre- and post-event images.\")\n",
        "else:\n",
        "    print(\"Skipping NBR calculation because images were not found.\")\n",
        "    nbrPre = None\n",
        "    nbrPost = None"
      ],
      "metadata": {
        "id": "wgMtqxrtb4BD"
      },
      "execution_count": null,
      "outputs": []
    },
    {
      "cell_type": "markdown",
      "source": [
        "## Calculate dNBR & Visualize"
      ],
      "metadata": {
        "id": "ZgmzBHqbb_rJ"
      }
    },
    {
      "cell_type": "code",
      "source": [
        "# dNBR = NBR_post - NBR_pre\n",
        "if nbrPre and nbrPost: # Check if NBR images were calculated\n",
        "    diff = nbrPost.subtract(nbrPre).rename('dNBR')\n",
        "    print(\"Calculated dNBR image.\")\n",
        "\n",
        "    # --- Define dNBR Visualization Parameters ---\n",
        "    # Using palette from the text (adjust min/max if needed)\n",
        "    palette_dNBR = [\n",
        "        '011959', '0E365E', '1D5561', '3E6C55', '687B3E', # Blue to Green (Negative change/loss)\n",
        "        'B4AD5B', # Near zero transition (example, might need adjustment)\n",
        "        'D59448', 'F9A380', 'FDB7BD', 'FACCFA' # Orange to Pink (Positive change/gain)\n",
        "    ]\n",
        "    # Adjust min/max based on observed dNBR range, +/- 0.2 to +/- 0.5 is common\n",
        "    dNBR_vis = {\n",
        "      'palette': palette_dNBR,\n",
        "      'min': -0.3,\n",
        "      'max': 0.3\n",
        "    }\n",
        "    print(\"Defined dNBR visualization parameters.\")\n",
        "\n",
        "    # --- Add dNBR Layer to Map ---\n",
        "    map_change = add_ee_layer(map_change, diff, dNBR_vis, 'dNBR (Post - Pre)')\n",
        "else:\n",
        "    print(\"Skipping dNBR calculation and visualization.\")\n",
        "    diff = None"
      ],
      "metadata": {
        "id": "46d6O7aTcDUP"
      },
      "execution_count": null,
      "outputs": []
    },
    {
      "cell_type": "markdown",
      "source": [
        "## Classify Change & Visualize\n",
        "\n"
      ],
      "metadata": {
        "id": "3b_FJV1xdODY"
      }
    },
    {
      "cell_type": "code",
      "source": [
        "# --- Define Thresholds for Classification ---\n",
        "# These values are examples and might need adjustment based on the specific\n",
        "# event severity, ecosystem, and desired sensitivity.\n",
        "# Negative threshold: Pixels below this are considered 'Loss'\n",
        "# Positive threshold: Pixels above this are considered 'Gain'\n",
        "thresholdLoss = -0.10 # dNBR below this is loss\n",
        "thresholdGain = 0.10 # dNBR above this is gain\n",
        "print(f\"Classification thresholds set: Loss <= {thresholdLoss}, Gain >= {thresholdGain}\")\n",
        "\n",
        "# --- Classify the dNBR Image ---\n",
        "if diff: # Check if dNBR image exists\n",
        "    # Create a base image with value 0 (representing 'No Change' or 'Stable')\n",
        "    diffClassified = ee.Image(0).rename('change_class')\n",
        "\n",
        "    # Classify areas of gain (dNBR >= thresholdGain) as 1\n",
        "    diffClassified = diffClassified.where(diff.gte(thresholdGain), 1)\n",
        "\n",
        "    # Classify areas of loss (dNBR <= thresholdLoss) as 2\n",
        "    # Note: Apply loss *after* gain if thresholds overlap near zero,\n",
        "    # or ensure they don't overlap if intermediate classes are needed.\n",
        "    # Here, loss condition overrides gain if a pixel somehow met both (unlikely).\n",
        "    diffClassified = diffClassified.where(diff.lte(thresholdLoss), 2)\n",
        "\n",
        "    print(\"Classified dNBR image into 3 classes (0=Stable, 1=Gain, 2=Loss).\")\n",
        "\n",
        "    # --- Define Classified Change Visualization Parameters ---\n",
        "    # Palette: 0=Stable (Yellowish), 1=Gain (Blue), 2=Loss (Red)\n",
        "    palette_classified = 'fcffc8,2659eb,fa1373' # Hex codes: Stable, Gain, Loss\n",
        "    changeVis = {\n",
        "      'palette': palette_classified,\n",
        "      'min': 0,\n",
        "      'max': 2\n",
        "    }\n",
        "    print(\"Defined classified change visualization parameters.\")\n",
        "\n",
        "    # --- Add Classified Layer to Map (Masked) ---\n",
        "    # Use selfMask() to make pixels with value 0 (Stable) transparent\n",
        "    map_change = add_ee_layer(map_change, diffClassified.selfMask(), changeVis, 'Classified Change (Masked)')\n",
        "\n",
        "    # --- Optional: Add Unmasked Classified Layer ---\n",
        "    # map_change = add_ee_layer(map_change, diffClassified, changeVis, 'Classified Change (Unmasked)')\n",
        "\n",
        "else:\n",
        "    print(\"Skipping classification because dNBR image is missing.\")"
      ],
      "metadata": {
        "id": "43OZNs7qdpDM"
      },
      "execution_count": null,
      "outputs": []
    },
    {
      "cell_type": "markdown",
      "source": [
        "##  Display Final Map"
      ],
      "metadata": {
        "id": "TEgXEMoBdtu7"
      }
    },
    {
      "cell_type": "code",
      "source": [
        "# --- Add Layer Control and Display Map ---\n",
        "\n",
        "# Add layer control to toggle layers on/off\n",
        "map_change.add_child(folium.LayerControl())\n",
        "print(\"Added Layer Control.\")\n",
        "\n",
        "# Display the final map\n",
        "print(\"Displaying map...\")\n",
        "display(map_change)\n",
        "print(\"--- Analysis Complete ---\")"
      ],
      "metadata": {
        "id": "kZl-mqf3du-H"
      },
      "execution_count": null,
      "outputs": []
    }
  ]
}
