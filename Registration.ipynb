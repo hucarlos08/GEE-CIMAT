{
  "nbformat": 4,
  "nbformat_minor": 0,
  "metadata": {
    "colab": {
      "provenance": [],
      "authorship_tag": "ABX9TyOHag7dlPtbjupKGiOELbiH",
      "include_colab_link": true
    },
    "kernelspec": {
      "name": "python3",
      "display_name": "Python 3"
    },
    "language_info": {
      "name": "python"
    }
  },
  "cells": [
    {
      "cell_type": "markdown",
      "metadata": {
        "id": "view-in-github",
        "colab_type": "text"
      },
      "source": [
        "<a href=\"https://colab.research.google.com/github/hucarlos08/GEE-CIMAT/blob/main/Registration.ipynb\" target=\"_parent\"><img src=\"https://colab.research.google.com/assets/colab-badge.svg\" alt=\"Open In Colab\"/></a>"
      ]
    },
    {
      "cell_type": "markdown",
      "source": [
        "## Step 1: Sign Up for Google Earth Engine\n",
        "\n",
        "First, you must create a Google Earth Engine account. Follow these simple steps:\n",
        "\n",
        "1. Go to the [Google Earth Engine Sign Up page](https://signup.earthengine.google.com/).\n",
        "2. Sign in with your Google Account (or create one if needed).\n",
        "3. Fill in the requested information about your intended use of GEE (educational purposes, research, etc.).\n",
        "4. Submit the application form.\n",
        "\n",
        "Approval typically occurs quickly, but it can take a few days."
      ],
      "metadata": {
        "id": "lJENcxkANLfY"
      }
    },
    {
      "cell_type": "markdown",
      "source": [
        "## Step 2: Install Google Earth Engine Python API\n",
        "\n",
        "Once your account is approved, you can proceed to set up the Google Earth Engine Python API in Google Colab.\n",
        "\"\"\""
      ],
      "metadata": {
        "id": "RkIH8fbENSDr"
      }
    },
    {
      "cell_type": "code",
      "execution_count": 1,
      "metadata": {
        "colab": {
          "base_uri": "https://localhost:8080/"
        },
        "id": "rTtvbYBvNE8f",
        "outputId": "e315d857-573f-4846-da3a-befb273d3d6b"
      },
      "outputs": [
        {
          "output_type": "stream",
          "name": "stdout",
          "text": [
            "Requirement already satisfied: earthengine-api in /usr/local/lib/python3.11/dist-packages (1.5.7)\n",
            "Requirement already satisfied: google-cloud-storage in /usr/local/lib/python3.11/dist-packages (from earthengine-api) (2.19.0)\n",
            "Requirement already satisfied: google-api-python-client>=1.12.1 in /usr/local/lib/python3.11/dist-packages (from earthengine-api) (2.164.0)\n",
            "Requirement already satisfied: google-auth>=1.4.1 in /usr/local/lib/python3.11/dist-packages (from earthengine-api) (2.38.0)\n",
            "Requirement already satisfied: google-auth-httplib2>=0.0.3 in /usr/local/lib/python3.11/dist-packages (from earthengine-api) (0.2.0)\n",
            "Requirement already satisfied: httplib2<1dev,>=0.9.2 in /usr/local/lib/python3.11/dist-packages (from earthengine-api) (0.22.0)\n",
            "Requirement already satisfied: requests in /usr/local/lib/python3.11/dist-packages (from earthengine-api) (2.32.3)\n",
            "Requirement already satisfied: google-api-core!=2.0.*,!=2.1.*,!=2.2.*,!=2.3.0,<3.0.0.dev0,>=1.31.5 in /usr/local/lib/python3.11/dist-packages (from google-api-python-client>=1.12.1->earthengine-api) (2.24.2)\n",
            "Requirement already satisfied: uritemplate<5,>=3.0.1 in /usr/local/lib/python3.11/dist-packages (from google-api-python-client>=1.12.1->earthengine-api) (4.1.1)\n",
            "Requirement already satisfied: cachetools<6.0,>=2.0.0 in /usr/local/lib/python3.11/dist-packages (from google-auth>=1.4.1->earthengine-api) (5.5.2)\n",
            "Requirement already satisfied: pyasn1-modules>=0.2.1 in /usr/local/lib/python3.11/dist-packages (from google-auth>=1.4.1->earthengine-api) (0.4.1)\n",
            "Requirement already satisfied: rsa<5,>=3.1.4 in /usr/local/lib/python3.11/dist-packages (from google-auth>=1.4.1->earthengine-api) (4.9)\n",
            "Requirement already satisfied: pyparsing!=3.0.0,!=3.0.1,!=3.0.2,!=3.0.3,<4,>=2.4.2 in /usr/local/lib/python3.11/dist-packages (from httplib2<1dev,>=0.9.2->earthengine-api) (3.2.1)\n",
            "Requirement already satisfied: google-cloud-core<3.0dev,>=2.3.0 in /usr/local/lib/python3.11/dist-packages (from google-cloud-storage->earthengine-api) (2.4.3)\n",
            "Requirement already satisfied: google-resumable-media>=2.7.2 in /usr/local/lib/python3.11/dist-packages (from google-cloud-storage->earthengine-api) (2.7.2)\n",
            "Requirement already satisfied: google-crc32c<2.0dev,>=1.0 in /usr/local/lib/python3.11/dist-packages (from google-cloud-storage->earthengine-api) (1.7.0)\n",
            "Requirement already satisfied: charset-normalizer<4,>=2 in /usr/local/lib/python3.11/dist-packages (from requests->earthengine-api) (3.4.1)\n",
            "Requirement already satisfied: idna<4,>=2.5 in /usr/local/lib/python3.11/dist-packages (from requests->earthengine-api) (3.10)\n",
            "Requirement already satisfied: urllib3<3,>=1.21.1 in /usr/local/lib/python3.11/dist-packages (from requests->earthengine-api) (2.3.0)\n",
            "Requirement already satisfied: certifi>=2017.4.17 in /usr/local/lib/python3.11/dist-packages (from requests->earthengine-api) (2025.1.31)\n",
            "Requirement already satisfied: googleapis-common-protos<2.0.0,>=1.56.2 in /usr/local/lib/python3.11/dist-packages (from google-api-core!=2.0.*,!=2.1.*,!=2.2.*,!=2.3.0,<3.0.0.dev0,>=1.31.5->google-api-python-client>=1.12.1->earthengine-api) (1.69.2)\n",
            "Requirement already satisfied: protobuf!=3.20.0,!=3.20.1,!=4.21.0,!=4.21.1,!=4.21.2,!=4.21.3,!=4.21.4,!=4.21.5,<7.0.0,>=3.19.5 in /usr/local/lib/python3.11/dist-packages (from google-api-core!=2.0.*,!=2.1.*,!=2.2.*,!=2.3.0,<3.0.0.dev0,>=1.31.5->google-api-python-client>=1.12.1->earthengine-api) (5.29.4)\n",
            "Requirement already satisfied: proto-plus<2.0.0,>=1.22.3 in /usr/local/lib/python3.11/dist-packages (from google-api-core!=2.0.*,!=2.1.*,!=2.2.*,!=2.3.0,<3.0.0.dev0,>=1.31.5->google-api-python-client>=1.12.1->earthengine-api) (1.26.1)\n",
            "Requirement already satisfied: pyasn1<0.7.0,>=0.4.6 in /usr/local/lib/python3.11/dist-packages (from pyasn1-modules>=0.2.1->google-auth>=1.4.1->earthengine-api) (0.6.1)\n"
          ]
        }
      ],
      "source": [
        "# Not neccesary in COLAB just in local\n",
        "!pip install earthengine-api"
      ]
    },
    {
      "cell_type": "markdown",
      "source": [
        "## Step 3: Authenticate Your Account\n",
        "\n",
        "Next, you must authenticate your GEE account to link it with your Colab session.\n",
        "\n",
        "Run the following command and follow the authentication link provided."
      ],
      "metadata": {
        "id": "iQ1r5NrvNja6"
      }
    },
    {
      "cell_type": "code",
      "source": [
        "import ee\n",
        "\n",
        "ee.Authenticate()"
      ],
      "metadata": {
        "id": "0yMfmA6PNxSl"
      },
      "execution_count": 2,
      "outputs": []
    },
    {
      "cell_type": "markdown",
      "source": [
        "- A link will appear when running the cell above.\n",
        "- Click on the link, select your Google account, and grant access.\n",
        "- Copy the provided authentication code, return to this notebook, and paste the code into the input box."
      ],
      "metadata": {
        "id": "dZBY9p5mN2ja"
      }
    },
    {
      "cell_type": "markdown",
      "source": [
        "## Step 4\n",
        "\n",
        "1. Go to the [Earth Engine Code Editor](https://code.earthengine.google.com/).\n",
        "2. Log in with the same Google account you used to sign up for Earth Engine.\n",
        "3. At the top, click on your **user icon** (top right) and select **“Cloud Projects”**.\n",
        "4. In the popup window, click **“Create a Cloud Project”**.\n",
        "5. Give it a name (e.g., `gee-demo-project`) and click **“Create”**.\n",
        "6. Earth Engine will automatically link the project and enable the required APIs."
      ],
      "metadata": {
        "id": "rt_jZwRKPQpa"
      }
    },
    {
      "cell_type": "markdown",
      "source": [
        "## Step 5: Initialize Earth Engine\n",
        "\n",
        "After creating the project, initialize the Earth Engine session to start using GEE!"
      ],
      "metadata": {
        "id": "juJwSnNIOByc"
      }
    },
    {
      "cell_type": "code",
      "source": [
        "ee.Initialize(project=\"ee-cimat\")"
      ],
      "metadata": {
        "id": "BX7s5GggOBCi"
      },
      "execution_count": 3,
      "outputs": []
    }
  ]
}